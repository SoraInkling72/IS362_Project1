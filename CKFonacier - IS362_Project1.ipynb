{
 "cells": [
  {
   "cell_type": "markdown",
   "id": "31a5989f",
   "metadata": {},
   "source": [
    "# *IS 362 - Project 1*"
   ]
  },
  {
   "cell_type": "markdown",
   "id": "b31aed6f",
   "metadata": {},
   "source": [
    "## Importing Data (CSV)"
   ]
  },
  {
   "cell_type": "code",
   "execution_count": 1,
   "id": "a386b056",
   "metadata": {},
   "outputs": [],
   "source": [
    "import pandas as pd"
   ]
  },
  {
   "cell_type": "code",
   "execution_count": 2,
   "id": "fd24e171",
   "metadata": {},
   "outputs": [
    {
     "name": "stdout",
     "output_type": "stream",
     "text": [
      "/home/cf23896372/Documents\n"
     ]
    }
   ],
   "source": [
    "# This is to help identify a filepath, but it is not needed for this scenario\n",
    "from pathlib import Path\n",
    "print(Path.cwd())"
   ]
  },
  {
   "cell_type": "markdown",
   "id": "5f26651b",
   "metadata": {},
   "source": [
    "As opposed to creating a dataframe from scratch, extracting data from a prexisting file such as a spreadsheet (e.g., Excel) or database (e.g., SQL, JSON, CSV, etc.) would result some headers and row spaces to have values such as \"Unnamed\" or \"NaN\" for cells/spaces that are intentionally left blank in the original file. To indicate labels of row data, they would have be indicated as index row using \"index_col=[**the column numbers needed**].\""
   ]
  },
  {
   "cell_type": "code",
   "execution_count": 3,
   "id": "22e1d82f",
   "metadata": {},
   "outputs": [
    {
     "data": {
      "text/html": [
       "<div>\n",
       "<style scoped>\n",
       "    .dataframe tbody tr th:only-of-type {\n",
       "        vertical-align: middle;\n",
       "    }\n",
       "\n",
       "    .dataframe tbody tr th {\n",
       "        vertical-align: top;\n",
       "    }\n",
       "\n",
       "    .dataframe thead th {\n",
       "        text-align: right;\n",
       "    }\n",
       "</style>\n",
       "<table border=\"1\" class=\"dataframe\">\n",
       "  <thead>\n",
       "    <tr style=\"text-align: right;\">\n",
       "      <th></th>\n",
       "      <th></th>\n",
       "      <th>Los Angeles</th>\n",
       "      <th>Phoenix</th>\n",
       "      <th>San Diego</th>\n",
       "      <th>San Francisco</th>\n",
       "      <th>Seattle</th>\n",
       "    </tr>\n",
       "  </thead>\n",
       "  <tbody>\n",
       "    <tr>\n",
       "      <th rowspan=\"2\" valign=\"top\">ALASKA</th>\n",
       "      <th>on time</th>\n",
       "      <td>497</td>\n",
       "      <td>221</td>\n",
       "      <td>212</td>\n",
       "      <td>503</td>\n",
       "      <td>1841</td>\n",
       "    </tr>\n",
       "    <tr>\n",
       "      <th>delayed</th>\n",
       "      <td>62</td>\n",
       "      <td>12</td>\n",
       "      <td>20</td>\n",
       "      <td>102</td>\n",
       "      <td>305</td>\n",
       "    </tr>\n",
       "    <tr>\n",
       "      <th rowspan=\"2\" valign=\"top\">AM WEST</th>\n",
       "      <th>on time</th>\n",
       "      <td>694</td>\n",
       "      <td>4840</td>\n",
       "      <td>383</td>\n",
       "      <td>320</td>\n",
       "      <td>201</td>\n",
       "    </tr>\n",
       "    <tr>\n",
       "      <th>delayed</th>\n",
       "      <td>117</td>\n",
       "      <td>415</td>\n",
       "      <td>65</td>\n",
       "      <td>129</td>\n",
       "      <td>61</td>\n",
       "    </tr>\n",
       "  </tbody>\n",
       "</table>\n",
       "</div>"
      ],
      "text/plain": [
       "                 Los Angeles  Phoenix  San Diego  San Francisco  Seattle\n",
       "ALASKA  on time          497      221        212            503     1841\n",
       "        delayed           62       12         20            102      305\n",
       "AM WEST on time          694     4840        383            320      201\n",
       "        delayed          117      415         65            129       61"
      ]
     },
     "execution_count": 3,
     "metadata": {},
     "output_type": "execute_result"
    }
   ],
   "source": [
    "# Had the filepath method been used, this string of code below would be needed\n",
    "# location = r'/home/cf23896372/Documents'\n",
    "\n",
    "# But we don't need it, so this block of code is sufficient\n",
    "airtime = pd.read_csv('Airline_Data.csv', index_col=[0, 1])\n",
    "airtime"
   ]
  },
  {
   "cell_type": "markdown",
   "id": "1e5c5330",
   "metadata": {},
   "source": [
    "## Testing Dataframe"
   ]
  },
  {
   "cell_type": "markdown",
   "id": "42e73562",
   "metadata": {},
   "source": [
    "These cells below are to help check the data format and structure, ensuring the original CSV structure was transferred when imported into Jupyter. Apparently, since two of the rows had the same airline name in the cells, the two cells merged in the pandas dataframe output, indicating that they each have \"on time\" and \"delayed\" row of data for each airline. "
   ]
  },
  {
   "cell_type": "code",
   "execution_count": 4,
   "id": "1dbde7fb",
   "metadata": {
    "scrolled": true
   },
   "outputs": [
    {
     "name": "stdout",
     "output_type": "stream",
     "text": [
      "                 Los Angeles  Phoenix  San Diego  San Francisco  Seattle\n",
      "ALASKA  on time          497      221        212            503     1841\n",
      "        delayed           62       12         20            102      305\n",
      "AM WEST on time          694     4840        383            320      201\n",
      "        delayed          117      415         65            129       61\n"
     ]
    }
   ],
   "source": [
    "print(airtime)"
   ]
  },
  {
   "cell_type": "code",
   "execution_count": 5,
   "id": "d11296bd",
   "metadata": {},
   "outputs": [
    {
     "data": {
      "text/plain": [
       "4"
      ]
     },
     "execution_count": 5,
     "metadata": {},
     "output_type": "execute_result"
    }
   ],
   "source": [
    "# How many rows of data are there?\n",
    "len(airtime)"
   ]
  },
  {
   "cell_type": "code",
   "execution_count": 6,
   "id": "a9dd0cad",
   "metadata": {
    "scrolled": true
   },
   "outputs": [
    {
     "data": {
      "text/plain": [
       "MultiIndex([( 'ALASKA', 'on time'),\n",
       "            ( 'ALASKA', 'delayed'),\n",
       "            ('AM WEST', 'on time'),\n",
       "            ('AM WEST', 'delayed')],\n",
       "           )"
      ]
     },
     "execution_count": 6,
     "metadata": {},
     "output_type": "execute_result"
    }
   ],
   "source": [
    "# Retrieves index data\n",
    "airtime.index"
   ]
  },
  {
   "cell_type": "markdown",
   "id": "7bbbf25b",
   "metadata": {},
   "source": [
    "## Data Analyses"
   ]
  },
  {
   "cell_type": "code",
   "execution_count": 7,
   "id": "489d3d8a",
   "metadata": {
    "scrolled": true
   },
   "outputs": [
    {
     "data": {
      "text/html": [
       "<div>\n",
       "<style scoped>\n",
       "    .dataframe tbody tr th:only-of-type {\n",
       "        vertical-align: middle;\n",
       "    }\n",
       "\n",
       "    .dataframe tbody tr th {\n",
       "        vertical-align: top;\n",
       "    }\n",
       "\n",
       "    .dataframe thead th {\n",
       "        text-align: right;\n",
       "    }\n",
       "</style>\n",
       "<table border=\"1\" class=\"dataframe\">\n",
       "  <thead>\n",
       "    <tr style=\"text-align: right;\">\n",
       "      <th></th>\n",
       "      <th>Flights Arrived</th>\n",
       "    </tr>\n",
       "  </thead>\n",
       "  <tbody>\n",
       "    <tr>\n",
       "      <th>Los Angeles</th>\n",
       "      <td>1370</td>\n",
       "    </tr>\n",
       "    <tr>\n",
       "      <th>Phoenix</th>\n",
       "      <td>5488</td>\n",
       "    </tr>\n",
       "    <tr>\n",
       "      <th>San Diego</th>\n",
       "      <td>680</td>\n",
       "    </tr>\n",
       "    <tr>\n",
       "      <th>San Francisco</th>\n",
       "      <td>1054</td>\n",
       "    </tr>\n",
       "    <tr>\n",
       "      <th>Seattle</th>\n",
       "      <td>2408</td>\n",
       "    </tr>\n",
       "  </tbody>\n",
       "</table>\n",
       "</div>"
      ],
      "text/plain": [
       "               Flights Arrived\n",
       "Los Angeles               1370\n",
       "Phoenix                   5488\n",
       "San Diego                  680\n",
       "San Francisco             1054\n",
       "Seattle                   2408"
      ]
     },
     "execution_count": 7,
     "metadata": {},
     "output_type": "execute_result"
    }
   ],
   "source": [
    "flights_by_city = airtime.sum()\n",
    "\n",
    "city_flights_sum = pd.DataFrame(flights_by_city)\n",
    "city_flights_sum.columns = ['Flights Arrived']\n",
    "city_flights_sum"
   ]
  },
  {
   "cell_type": "markdown",
   "id": "6b9b5cfc",
   "metadata": {},
   "source": [
    "This was a practice to showcase the number of flights that have arrived in each city in total, regardless whether or not their arrival was delayed. As shown on the dataframe, Phoenix, AZ had the most amount of flights arrive there, while San Diego, CA had the least."
   ]
  },
  {
   "cell_type": "code",
   "execution_count": 8,
   "id": "67a64e55",
   "metadata": {
    "scrolled": true
   },
   "outputs": [
    {
     "data": {
      "text/html": [
       "<div>\n",
       "<style scoped>\n",
       "    .dataframe tbody tr th:only-of-type {\n",
       "        vertical-align: middle;\n",
       "    }\n",
       "\n",
       "    .dataframe tbody tr th {\n",
       "        vertical-align: top;\n",
       "    }\n",
       "\n",
       "    .dataframe thead th {\n",
       "        text-align: right;\n",
       "    }\n",
       "</style>\n",
       "<table border=\"1\" class=\"dataframe\">\n",
       "  <thead>\n",
       "    <tr style=\"text-align: right;\">\n",
       "      <th></th>\n",
       "      <th></th>\n",
       "      <th>Total Number of Flights By Arrival</th>\n",
       "    </tr>\n",
       "  </thead>\n",
       "  <tbody>\n",
       "    <tr>\n",
       "      <th rowspan=\"2\" valign=\"top\">ALASKA</th>\n",
       "      <th>on time</th>\n",
       "      <td>3274</td>\n",
       "    </tr>\n",
       "    <tr>\n",
       "      <th>delayed</th>\n",
       "      <td>501</td>\n",
       "    </tr>\n",
       "    <tr>\n",
       "      <th rowspan=\"2\" valign=\"top\">AM WEST</th>\n",
       "      <th>on time</th>\n",
       "      <td>6438</td>\n",
       "    </tr>\n",
       "    <tr>\n",
       "      <th>delayed</th>\n",
       "      <td>787</td>\n",
       "    </tr>\n",
       "  </tbody>\n",
       "</table>\n",
       "</div>"
      ],
      "text/plain": [
       "                 Total Number of Flights By Arrival\n",
       "ALASKA  on time                                3274\n",
       "        delayed                                 501\n",
       "AM WEST on time                                6438\n",
       "        delayed                                 787"
      ]
     },
     "execution_count": 8,
     "metadata": {},
     "output_type": "execute_result"
    }
   ],
   "source": [
    "# Retrives the sum of all rows\n",
    "airtime_row_sum = airtime.sum(axis=1)\n",
    "\n",
    "data = airtime_row_sum\n",
    "\n",
    "flights_sum = pd.DataFrame(data)\n",
    "# Retrieves an already retrieved multi-index\n",
    "flights_sum.index = airtime.index\n",
    "# Gives name to blank column header\n",
    "flights_sum.columns = ['Total Number of Flights By Arrival']\n",
    "\n",
    "flights_sum"
   ]
  },
  {
   "cell_type": "markdown",
   "id": "4cd1847d",
   "metadata": {},
   "source": [
    "While this is good to display the total number of flights for each airline individually, as well as categorizing them by whether the flights' arrival was on time or delayed, this will not be suitable for a comparison between the two airlines. The sample size between the two airlines are non-proportional to one another, especially since America West Airlines (**AM WEST**) has a larger sample size compared to Alaska Airlines (**ALASKA**). Thus, I need to calculate the ratio of number of both on-time and delayed arrivals to the total number of arrivals of each airline. But first, the sum of the total number of arrivals for each airline must be calculated, giving the observational sample size of both airlines. Afterwards, I can calculate the on-time and delayed arrival rates for each airline."
   ]
  },
  {
   "cell_type": "code",
   "execution_count": 9,
   "id": "4325c3f5",
   "metadata": {},
   "outputs": [
    {
     "data": {
      "text/html": [
       "<div>\n",
       "<style scoped>\n",
       "    .dataframe tbody tr th:only-of-type {\n",
       "        vertical-align: middle;\n",
       "    }\n",
       "\n",
       "    .dataframe tbody tr th {\n",
       "        vertical-align: top;\n",
       "    }\n",
       "\n",
       "    .dataframe thead th {\n",
       "        text-align: right;\n",
       "    }\n",
       "</style>\n",
       "<table border=\"1\" class=\"dataframe\">\n",
       "  <thead>\n",
       "    <tr style=\"text-align: right;\">\n",
       "      <th></th>\n",
       "      <th>Total Number of Arrivals</th>\n",
       "    </tr>\n",
       "  </thead>\n",
       "  <tbody>\n",
       "    <tr>\n",
       "      <th>ALASKA</th>\n",
       "      <td>3775</td>\n",
       "    </tr>\n",
       "    <tr>\n",
       "      <th>AM WEST</th>\n",
       "      <td>7225</td>\n",
       "    </tr>\n",
       "  </tbody>\n",
       "</table>\n",
       "</div>"
      ],
      "text/plain": [
       "         Total Number of Arrivals\n",
       "ALASKA                       3775\n",
       "AM WEST                      7225"
      ]
     },
     "execution_count": 9,
     "metadata": {},
     "output_type": "execute_result"
    }
   ],
   "source": [
    "# The code below will sum the values of multiple rows specified by index\n",
    "ALASKA_total_arrivals = flights_sum.loc['ALASKA'].sum()\n",
    "AMWest_total_arrivals = flights_sum.loc['AM WEST'].sum()\n",
    "\n",
    "arrival_data = [ALASKA_total_arrivals, AMWest_total_arrivals]\n",
    "\n",
    "arrival_sum = pd.DataFrame(arrival_data)\n",
    "# I do not know how to get a specific index pulled from a multi-index, so I had to resort to this\n",
    "arrival_sum.index = ['ALASKA', 'AM WEST']\n",
    "arrival_sum.columns = ['Total Number of Arrivals']\n",
    "\n",
    "arrival_sum"
   ]
  },
  {
   "cell_type": "markdown",
   "id": "be2430ea",
   "metadata": {},
   "source": [
    "The sum of the flight data from each airline in the dataframe calculates the number of overall flights that have arrived on time or delayed, not factoring in the location of arrival. However, while it can be argued that both airlines have more on time arrivals than delayed arrivals, the sum of the flights in total for each airline are different, with America West Airlines (**AM WEST**) having the most amount of flights compared to Alaska Airlines (**ALASKA**)."
   ]
  },
  {
   "cell_type": "code",
   "execution_count": 10,
   "id": "67dc04ee",
   "metadata": {},
   "outputs": [
    {
     "data": {
      "text/html": [
       "<div>\n",
       "<style scoped>\n",
       "    .dataframe tbody tr th:only-of-type {\n",
       "        vertical-align: middle;\n",
       "    }\n",
       "\n",
       "    .dataframe tbody tr th {\n",
       "        vertical-align: top;\n",
       "    }\n",
       "\n",
       "    .dataframe thead th {\n",
       "        text-align: right;\n",
       "    }\n",
       "</style>\n",
       "<table border=\"1\" class=\"dataframe\">\n",
       "  <thead>\n",
       "    <tr style=\"text-align: right;\">\n",
       "      <th></th>\n",
       "      <th></th>\n",
       "      <th>Overall Flight Arrival Rate (%)</th>\n",
       "    </tr>\n",
       "  </thead>\n",
       "  <tbody>\n",
       "    <tr>\n",
       "      <th rowspan=\"2\" valign=\"top\">ALASKA</th>\n",
       "      <th>on time</th>\n",
       "      <td>86.728477</td>\n",
       "    </tr>\n",
       "    <tr>\n",
       "      <th>delayed</th>\n",
       "      <td>13.271523</td>\n",
       "    </tr>\n",
       "    <tr>\n",
       "      <th rowspan=\"2\" valign=\"top\">AM WEST</th>\n",
       "      <th>on time</th>\n",
       "      <td>89.107266</td>\n",
       "    </tr>\n",
       "    <tr>\n",
       "      <th>delayed</th>\n",
       "      <td>10.892734</td>\n",
       "    </tr>\n",
       "  </tbody>\n",
       "</table>\n",
       "</div>"
      ],
      "text/plain": [
       "                 Overall Flight Arrival Rate (%)\n",
       "ALASKA  on time                        86.728477\n",
       "        delayed                        13.271523\n",
       "AM WEST on time                        89.107266\n",
       "        delayed                        10.892734"
      ]
     },
     "execution_count": 10,
     "metadata": {},
     "output_type": "execute_result"
    }
   ],
   "source": [
    "ALASKA_OnTime = flights_sum.loc['ALASKA', 'on time']['Total Number of Flights By Arrival']\n",
    "ALASKA_Delayed = flights_sum.loc['ALASKA', 'delayed']['Total Number of Flights By Arrival']\n",
    "ALASKA_Sum = arrival_sum.loc['ALASKA']['Total Number of Arrivals']\n",
    "\n",
    "AMWest_OnTime = flights_sum.loc['AM WEST', 'on time']['Total Number of Flights By Arrival']\n",
    "AMWest_Delayed = flights_sum.loc['AM WEST', 'delayed']['Total Number of Flights By Arrival']\n",
    "AMWest_Sum = arrival_sum.loc['AM WEST']['Total Number of Arrivals']\n",
    "\n",
    "# The value of the ratio is multiplied by 100 for it to be a percentage\n",
    "ratio1 = (ALASKA_OnTime/ALASKA_Sum)*100\n",
    "ratio2 = (ALASKA_Delayed/ALASKA_Sum)*100\n",
    "ratio3 = (AMWest_OnTime/AMWest_Sum)*100\n",
    "ratio4 = (AMWest_Delayed/AMWest_Sum)*100\n",
    "\n",
    "ratio_data = [ratio1, ratio2, ratio3, ratio4]\n",
    "\n",
    "percentage_flight_data = pd.DataFrame(ratio_data)\n",
    "percentage_flight_data.index = airtime.index\n",
    "percentage_flight_data.columns = ['Overall Flight Arrival Rate (%)']\n",
    "\n",
    "percentage_flight_data"
   ]
  },
  {
   "cell_type": "markdown",
   "id": "5662ea15",
   "metadata": {},
   "source": [
    "As shown in the dataframe, Alaska Airlines (**ALASKA**) is shown to have the most amount of delayed flights in comparison to America West Airlines (**AM WEST**),its rate having approximately 13.27% of its flight arrivals delayed compared to American West Airlines' flights' rate of having only approximately 10.9% of flight arrival delays. \n",
    "\n",
    "Conversely, America West Airlines had more on time arrivals in comparison to Alaska Airlines, given that a rate of about 89.1% of America West Flights had on time arrivals compared to Alaska Airlines, in which about 86.73% of its flights arrived on time.\n",
    "\n",
    "The content of the dataframe displays that America West Airlines has a larger on-time arrival rate and lower arrival delay rate compared to Alaska Airlines."
   ]
  },
  {
   "cell_type": "markdown",
   "id": "379578f4",
   "metadata": {},
   "source": [
    "## Conclusion"
   ]
  },
  {
   "cell_type": "markdown",
   "id": "4e781ce4",
   "metadata": {},
   "source": [
    "As displayed by the data provided and the ratio of flight arrival performance to the total number of flight arrivals by each airline, it can be determined that America West Airlines (**AM WEST**) has a better flight arrival performance/schedule compared to Alaska Airlines (**ALASKA**), since the former has a higher on-time arrival percentage rate compared to the latter. In contrast, Alaska Airlines has a higher percentage rate of delays than America West Airlines.\n",
    "\n",
    "This indicates that Alaska Airlines has a poor schedule performance/management as it has a higher arrival delay rate compared to American West Airlines. Thus, it can be concluded that America West Airlines has better schedule management given that it has a high on-time arrival rate, it can be predicted that the flights having a higher likelihood of arriving on time to its destination."
   ]
  },
  {
   "cell_type": "markdown",
   "id": "7030286d",
   "metadata": {},
   "source": [
    "However, it should be noted that the accuracy of this conclusion is ambiguous, given the vastly different sample size provided in the observation data. Since the sample size of America West Airlines is significantly larger than Alaska Airlines', the comparison analysis between the two observations of airline arrival data may not be considered proper.\n",
    "\n",
    "A better observational analysis can be made if the sample sizes were approximately the same, having roughly the same amount of flights for each airline (or both numbers are in close proximity to one another), creating a small margin of error and more accurate calculations of the flight arrival rates."
   ]
  }
 ],
 "metadata": {
  "kernelspec": {
   "display_name": "Python 3",
   "language": "python",
   "name": "python3"
  },
  "language_info": {
   "codemirror_mode": {
    "name": "ipython",
    "version": 3
   },
   "file_extension": ".py",
   "mimetype": "text/x-python",
   "name": "python",
   "nbconvert_exporter": "python",
   "pygments_lexer": "ipython3",
   "version": "3.8.10"
  }
 },
 "nbformat": 4,
 "nbformat_minor": 5
}
